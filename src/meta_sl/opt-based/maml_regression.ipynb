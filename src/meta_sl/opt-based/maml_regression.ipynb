{
 "cells": [
  {
   "cell_type": "code",
   "execution_count": 1,
   "metadata": {
    "id": "J7ZFlhQA4enq",
    "pycharm": {
     "name": "#%%\n"
    }
   },
   "outputs": [],
   "source": [
    "import collections\n",
    "import os\n",
    "import warnings\n",
    "from typing import Dict, List, Optional, Tuple\n",
    "\n",
    "import matplotlib.pyplot as plt\n",
    "import torch\n",
    "import torch.nn as nn\n",
    "from torchmeta.modules import MetaLinear, MetaModule, MetaSequential\n",
    "from torchmeta.toy import Sinusoid\n",
    "from torchmeta.utils.data import BatchMetaDataLoader\n",
    "from torchmeta.utils.gradient_based import gradient_update_parameters\n",
    "from tqdm import tqdm\n",
    "\n",
    "warnings.filterwarnings(\"ignore\")"
   ]
  },
  {
   "cell_type": "code",
   "execution_count": 2,
   "metadata": {
    "id": "IV1WLJ-z4f_A",
    "pycharm": {
     "name": "#%%\n"
    }
   },
   "outputs": [],
   "source": [
    "def get_dataloader(\n",
    "    config: Dict[str, int]\n",
    ") -> Tuple[BatchMetaDataLoader, BatchMetaDataLoader, BatchMetaDataLoader]:\n",
    "    train_dataset = Sinusoid(\n",
    "        num_samples_per_task=config[\"num_shots\"] * 2,\n",
    "        num_tasks=config[\"num_task_batch_train\"] * config[\"task_batch_size\"],\n",
    "        noise_std=None,\n",
    "    )\n",
    "    train_dataloader = BatchMetaDataLoader(\n",
    "        train_dataset, batch_size=config[\"task_batch_size\"]\n",
    "    )\n",
    "\n",
    "    val_dataset = Sinusoid(\n",
    "        num_samples_per_task=config[\"num_shots\"] * 2,\n",
    "        num_tasks=config[\"num_task_batch_train\"] * config[\"task_batch_size\"],\n",
    "        noise_std=None,\n",
    "    )\n",
    "    val_dataloader = BatchMetaDataLoader(\n",
    "        val_dataset, batch_size=config[\"task_batch_size\"]\n",
    "    )\n",
    "\n",
    "    test_dataset = Sinusoid(\n",
    "        num_samples_per_task=config[\"num_shots\"] * 2,\n",
    "        num_tasks=config[\"num_task_batch_test\"] * config[\"task_batch_size\"],\n",
    "        noise_std=None,\n",
    "    )\n",
    "    test_dataloader = BatchMetaDataLoader(\n",
    "        test_dataset, batch_size=config[\"task_batch_size\"]\n",
    "    )\n",
    "    return train_dataloader, val_dataloader, test_dataloader"
   ]
  },
  {
   "cell_type": "code",
   "execution_count": 3,
   "metadata": {
    "id": "rpPr1Yh64kNI",
    "pycharm": {
     "name": "#%%\n"
    }
   },
   "outputs": [],
   "source": [
    "class FCNet(MetaModule):\n",
    "    def __init__(self, in_dimension: int, out_dimension: int) -> None:\n",
    "        super(FCNet, self).__init__()\n",
    "        self.in_dimension = in_dimension\n",
    "        self.out_dimension = out_dimension\n",
    "        self.hidden_size = 40\n",
    "\n",
    "        self.linears = MetaSequential(\n",
    "            MetaLinear(1, self.hidden_size),\n",
    "            nn.ReLU(),\n",
    "            MetaLinear(self.hidden_size, self.hidden_size),\n",
    "            nn.ReLU(),\n",
    "            MetaLinear(self.hidden_size, 1),\n",
    "        )\n",
    "\n",
    "    def forward(\n",
    "        self, x: torch.Tensor, params: Optional[collections.OrderedDict] = None\n",
    "    ) -> torch.Tensor:\n",
    "        pred = self.linears(x, params=self.get_subdict(params, \"linears\"))\n",
    "        return pred"
   ]
  },
  {
   "cell_type": "code",
   "execution_count": 4,
   "metadata": {
    "id": "6zjwLd6k4lXC",
    "pycharm": {
     "name": "#%%\n"
    }
   },
   "outputs": [],
   "source": [
    "def train_maml(\n",
    "    num_shots: int,\n",
    "    device: str,\n",
    "    task_batch_size: int,\n",
    "    task_batch: Dict[str, List[torch.Tensor]],\n",
    "    model: FCNet,\n",
    "    criterion: nn.MSELoss,\n",
    "    optimizer: torch.optim.Adam,\n",
    ") -> float:\n",
    "    model.train()\n",
    "\n",
    "    xs, ys = task_batch\n",
    "    support_xs = xs[:, :num_shots, :].to(device=device).type(torch.float)\n",
    "    query_xs = xs[:, num_shots:, :].to(device=device).type(torch.float)\n",
    "    support_ys = ys[:, :num_shots, :].to(device=device).type(torch.float)\n",
    "    query_ys = ys[:, num_shots:, :].to(device=device).type(torch.float)\n",
    "\n",
    "    outer_loss = torch.tensor(0.0, device=device)\n",
    "\n",
    "    for support_x, support_y, query_x, query_y in zip(\n",
    "        support_xs, support_ys, query_xs, query_ys\n",
    "    ):\n",
    "        support_pred = model(support_x)\n",
    "        inner_loss = criterion(support_pred, support_y)\n",
    "\n",
    "        params = gradient_update_parameters(\n",
    "            model, inner_loss, step_size=0.01, first_order=False\n",
    "        )\n",
    "\n",
    "        query_pred = model(query_x, params=params)\n",
    "        outer_loss += criterion(query_pred, query_y)\n",
    "\n",
    "    outer_loss.div_(task_batch_size)\n",
    "\n",
    "    model.zero_grad()\n",
    "    outer_loss.backward()\n",
    "    optimizer.step()\n",
    "    return outer_loss.item()"
   ]
  },
  {
   "cell_type": "code",
   "execution_count": 5,
   "metadata": {
    "id": "Z6zYqurP4mge",
    "pycharm": {
     "name": "#%%\n"
    }
   },
   "outputs": [],
   "source": [
    "def test_maml(\n",
    "    num_shots: int,\n",
    "    device: str,\n",
    "    task_batch_size: int,\n",
    "    task_batch: Dict[str, List[torch.Tensor]],\n",
    "    model: FCNet,\n",
    "    criterion: nn.MSELoss,\n",
    ") -> float:\n",
    "    model.eval()\n",
    "\n",
    "    xs, ys = task_batch\n",
    "    support_xs = xs[:, :num_shots, :].to(device=device).type(torch.float)\n",
    "    query_xs = xs[:, num_shots:, :].to(device=device).type(torch.float)\n",
    "    support_ys = ys[:, :num_shots, :].to(device=device).type(torch.float)\n",
    "    query_ys = ys[:, num_shots:, :].to(device=device).type(torch.float)\n",
    "\n",
    "    outer_loss = torch.tensor(0.0, device=device)\n",
    "\n",
    "    for support_x, support_y, query_x, query_y in zip(\n",
    "        support_xs, support_ys, query_xs, query_ys\n",
    "    ):\n",
    "        support_pred = model(support_x)\n",
    "        inner_loss = criterion(support_pred, support_y)\n",
    "\n",
    "        params = gradient_update_parameters(\n",
    "            model, inner_loss, step_size=0.01, first_order=False\n",
    "        )\n",
    "\n",
    "        query_pred = model(query_x, params=params)\n",
    "        outer_loss += criterion(query_pred, query_y)\n",
    "\n",
    "    outer_loss.div_(task_batch_size)\n",
    "    return outer_loss.item()"
   ]
  },
  {
   "cell_type": "code",
   "execution_count": 6,
   "metadata": {
    "pycharm": {
     "name": "#%%\n"
    }
   },
   "outputs": [],
   "source": [
    "def save_model(output_folder: str, model: FCNet, title: str) -> None:\n",
    "    if not os.path.isdir(output_folder):\n",
    "        os.mkdir(output_folder)\n",
    "    filename = os.path.join(output_folder, title)\n",
    "\n",
    "    with open(filename, \"wb\") as f:\n",
    "        state_dict = model.state_dict()\n",
    "        torch.save(state_dict, f)\n",
    "    print(\"Model is saved in\", filename)\n",
    "\n",
    "\n",
    "def load_model(output_folder: str, model: FCNet, title: str) -> None:\n",
    "    filename = os.path.join(output_folder, title)\n",
    "    model.load_state_dict(torch.load(filename))\n",
    "    print(\"Model is loaded\")"
   ]
  },
  {
   "cell_type": "code",
   "execution_count": 7,
   "metadata": {
    "pycharm": {
     "name": "#%%\n"
    }
   },
   "outputs": [],
   "source": [
    "def print_loss_graph(train_losses: List[float], val_losses: List[float]) -> None:\n",
    "    plt.figure(figsize=(8, 6), dpi=80)\n",
    "\n",
    "    plt.plot(train_losses, label=\"train_loss\")\n",
    "    plt.plot(val_losses, label=\"val_loss\")\n",
    "    plt.title(\"Loss\")\n",
    "    plt.legend()\n",
    "\n",
    "    plt.show()"
   ]
  },
  {
   "cell_type": "code",
   "execution_count": 9,
   "metadata": {
    "id": "z8BSi4i54nqE",
    "pycharm": {
     "name": "#%%\n"
    }
   },
   "outputs": [],
   "source": [
    "config = {\n",
    "    \"num_shots\": 10,\n",
    "    \"output_folder\": \"saved_model\",\n",
    "    \"task_batch_size\": 100,  # 필수\n",
    "    \"num_task_batch_train\": 1000,  # 필수\n",
    "    \"num_task_batch_test\": 300,  # 필수\n",
    "    # \"device\": \"cuda\",  # 필수\n",
    "    \"device\": \"cpu\",  # 필수\n",
    "}\n",
    "\n",
    "train_dataloader, val_dataloader, test_dataloader = get_dataloader(config)\n",
    "\n",
    "model = FCNet(in_dimension=1, out_dimension=1).to(device=config[\"device\"])\n",
    "\n",
    "criterion = nn.MSELoss()\n",
    "optimizer = torch.optim.Adam(model.parameters(), lr=1e-3)"
   ]
  },
  {
   "cell_type": "code",
   "execution_count": 10,
   "metadata": {
    "colab": {
     "base_uri": "https://localhost:8080/",
     "height": 467
    },
    "executionInfo": {
     "elapsed": 329895,
     "status": "ok",
     "timestamp": 1642245922108,
     "user": {
      "displayName": "Luna Jang",
      "photoUrl": "https://lh3.googleusercontent.com/a-/AOh14GiBq_mQ3pvg1aATbjbemG_YdHPPMMsRmQcVaghkug=s64",
      "userId": "06164029183671863730"
     },
     "user_tz": -540
    },
    "id": "u4Wd6fLK4ozg",
    "outputId": "502d7dda-a154-4a36-fcdd-48a54fbd120d",
    "pycharm": {
     "name": "#%%\n"
    }
   },
   "outputs": [
    {
     "name": "stderr",
     "output_type": "stream",
     "text": [
      "100%|██████████| 1000/1000 [03:12<00:00,  5.19it/s, train_loss=1.1742, val_loss=1.1711]\n"
     ]
    },
    {
     "name": "stdout",
     "output_type": "stream",
     "text": [
      "Model is saved in saved_model/maml_regression.th\n"
     ]
    },
    {
     "data": {
      "text/plain": "<Figure size 640x480 with 1 Axes>",
      "image/png": "[encoded data removed]"
     },
     "metadata": {},
     "output_type": "display_data"
    }
   ],
   "source": [
    "# 메타-트레이닝\n",
    "with tqdm(\n",
    "    zip(train_dataloader, val_dataloader), total=config[\"num_task_batch_train\"]\n",
    ") as pbar:\n",
    "    train_losses = []\n",
    "    val_losses = []\n",
    "\n",
    "    for task_batch_idx, (train_batch, val_batch) in enumerate(pbar):\n",
    "        train_loss = train_maml(\n",
    "            num_shots=config[\"num_shots\"],\n",
    "            device=config[\"device\"],\n",
    "            task_batch_size=config[\"task_batch_size\"],\n",
    "            task_batch=train_batch,\n",
    "            model=model,\n",
    "            criterion=criterion,\n",
    "            optimizer=optimizer,\n",
    "        )\n",
    "        val_loss = test_maml(\n",
    "            num_shots=config[\"num_shots\"],\n",
    "            device=config[\"device\"],\n",
    "            task_batch_size=config[\"task_batch_size\"],\n",
    "            task_batch=train_batch,\n",
    "            model=model,\n",
    "            criterion=criterion,\n",
    "        )\n",
    "\n",
    "        train_losses.append(train_loss)\n",
    "        val_losses.append(val_loss)\n",
    "\n",
    "        pbar.set_postfix(\n",
    "            train_loss=\"{0:.4f}\".format(train_loss), val_loss=\"{0:.4f}\".format(val_loss)\n",
    "        )\n",
    "\n",
    "# 모델 저장하기\n",
    "save_model(\n",
    "    output_folder=config[\"output_folder\"], model=model, title=\"maml_regression.th\"\n",
    ")\n",
    "\n",
    "print_loss_graph(train_losses=train_losses, val_losses=val_losses)"
   ]
  },
  {
   "cell_type": "code",
   "execution_count": 11,
   "outputs": [
    {
     "name": "stdout",
     "output_type": "stream",
     "text": [
      "Model is loaded\n"
     ]
    },
    {
     "name": "stderr",
     "output_type": "stream",
     "text": [
      "100%|██████████| 300/300 [00:25<00:00, 11.98it/s, test_loss=1.1711]\n"
     ]
    }
   ],
   "source": [
    "# 모델 불러오기\n",
    "load_model(\n",
    "    output_folder=config[\"output_folder\"], model=model, title=\"maml_regression.th\"\n",
    ")\n",
    "\n",
    "# 메타-테스팅\n",
    "with tqdm(test_dataloader, total=config[\"num_task_batch_test\"]) as pbar:\n",
    "    sum_test_losses = 0.0\n",
    "\n",
    "    for task_batch_idx, test_batch in enumerate(pbar):\n",
    "        test_loss = test_maml(\n",
    "            num_shots=config[\"num_shots\"],\n",
    "            device=config[\"device\"],\n",
    "            task_batch_size=config[\"task_batch_size\"],\n",
    "            task_batch=train_batch,\n",
    "            model=model,\n",
    "            criterion=criterion,\n",
    "        )\n",
    "\n",
    "        sum_test_losses += test_loss\n",
    "        pbar.set_postfix(\n",
    "            test_loss=\"{0:.4f}\".format(sum_test_losses / (task_batch_idx + 1))\n",
    "        )"
   ],
   "metadata": {
    "collapsed": false,
    "pycharm": {
     "name": "#%%\n"
    }
   }
  },
  {
   "cell_type": "markdown",
   "source": [
    "***"
   ],
   "metadata": {
    "collapsed": false,
    "pycharm": {
     "name": "#%% md\n"
    }
   }
  }
 ],
 "metadata": {
  "accelerator": "GPU",
  "colab": {
   "collapsed_sections": [],
   "name": "MAML_regression.ipynb",
   "provenance": []
  },
  "kernelspec": {
   "display_name": "Python 3 (ipykernel)",
   "language": "python",
   "name": "python3"
  },
  "language_info": {
   "codemirror_mode": {
    "name": "ipython",
    "version": 3
   },
   "file_extension": ".py",
   "mimetype": "text/x-python",
   "name": "python",
   "nbconvert_exporter": "python",
   "pygments_lexer": "ipython3",
   "version": "3.8.8"
  },
  "vscode": {
   "interpreter": {
    "hash": "1e00701f8c0a829a96ff452fb5277f0ece3f4e07662fe9989dbbafc0d5cb5571"
   }
  }
 },
 "nbformat": 4,
 "nbformat_minor": 0
}